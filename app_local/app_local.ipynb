{
 "cells": [
  {
   "cell_type": "markdown",
   "metadata": {},
   "source": [
    "En el siguiente código se va a simular lo que sucede sin webhook.<br/>\n",
    "<br/>\n",
    "Pasos:<br/>\n",
    "1- Cargar paquetes y variables de entorno<br/>\n",
    "2- Enviar template desde el bot al usuario para iniciar conversación<br/>\n",
    "3- Se debe hacer por celular: responder desde el usuario al bot<br/>\n",
    "4- Seleccionar un json de prueba con el formato de un pedido<br/>\n",
    "5- Procesar el json para extraer el nro de telefono y pregunta<br/>\n",
    "6- Enviar del bot al usuario por medio de la api: su pregunta fue:... <br/>\n",
    "7- Procesar la pregunta<br/>\n",
    "8- Responder por medio de la api.<br/>"
   ]
  },
  {
   "cell_type": "code",
   "execution_count": 4,
   "metadata": {},
   "outputs": [
    {
     "name": "stdout",
     "output_type": "stream",
     "text": [
      "sdad\n"
     ]
    }
   ],
   "source": [
    "# Importo las librerías\n",
    "import os\n",
    "from dotenv import load_dotenv\n",
    "\n",
    "# Cargamos las variables de entorno del proyecto\n",
    "load_dotenv()\n",
    "\n",
    "# Guardamos las variables de entorno en una variable\n",
    "environ_var = os.getenv(\"WHATSAPP_HOOK_TOKEN\")\n",
    "\n",
    "# Imprimimos la variable de entorno\n",
    "print(environ_var)"
   ]
  },
  {
   "cell_type": "code",
   "execution_count": 5,
   "metadata": {},
   "outputs": [],
   "source": [
    "# Importo las funciones a usar\n",
    "import functions"
   ]
  },
  {
   "cell_type": "code",
   "execution_count": null,
   "metadata": {},
   "outputs": [],
   "source": []
  },
  {
   "cell_type": "markdown",
   "metadata": {},
   "source": [
    "PASO 2: Enviar template para empezar la conversación"
   ]
  },
  {
   "cell_type": "code",
   "execution_count": 6,
   "metadata": {},
   "outputs": [],
   "source": [
    "# Variables para enviar el template:\n",
    "tel_destino = os.getenv(\"TEL_DESTINO\")\n",
    "template_name = \"hello_world\"\n",
    "template_idiom = \"en_US\""
   ]
  },
  {
   "cell_type": "code",
   "execution_count": 9,
   "metadata": {},
   "outputs": [
    {
     "name": "stdout",
     "output_type": "stream",
     "text": [
      "{\"messaging_product\":\"whatsapp\",\"contacts\":[{\"input\":\"543492575809\",\"wa_id\":\"5493492575809\"}],\"messages\":[{\"id\":\"wamid.HBgNNTQ5MzQ5MjU3NTgwORUCABEYEjM3QUFENkQ1NjkzOENGRDQzQgA=\"}]}\n"
     ]
    }
   ],
   "source": [
    "# Envio template para iniciar conversacion:\n",
    "functions.envio_template(tel_destino, template_name, template_idiom)"
   ]
  },
  {
   "cell_type": "code",
   "execution_count": null,
   "metadata": {},
   "outputs": [],
   "source": []
  },
  {
   "cell_type": "code",
   "execution_count": null,
   "metadata": {},
   "outputs": [],
   "source": []
  },
  {
   "cell_type": "code",
   "execution_count": null,
   "metadata": {},
   "outputs": [],
   "source": []
  },
  {
   "cell_type": "code",
   "execution_count": null,
   "metadata": {},
   "outputs": [],
   "source": []
  },
  {
   "cell_type": "code",
   "execution_count": null,
   "metadata": {},
   "outputs": [],
   "source": []
  }
 ],
 "metadata": {
  "kernelspec": {
   "display_name": "Python 3.9.7 ('base')",
   "language": "python",
   "name": "python3"
  },
  "language_info": {
   "codemirror_mode": {
    "name": "ipython",
    "version": 3
   },
   "file_extension": ".py",
   "mimetype": "text/x-python",
   "name": "python",
   "nbconvert_exporter": "python",
   "pygments_lexer": "ipython3",
   "version": "3.9.7"
  },
  "orig_nbformat": 4,
  "vscode": {
   "interpreter": {
    "hash": "562c9c567e50c33fd32533d1041799ab9ec09a9cf2f2e4c1c846bbf665f39d1b"
   }
  }
 },
 "nbformat": 4,
 "nbformat_minor": 2
}
