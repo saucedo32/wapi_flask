{
 "cells": [
  {
   "cell_type": "markdown",
   "metadata": {},
   "source": [
    "En el siguiente código se va a simular lo que sucede sin webhook.<br/>\n",
    "<br/>\n",
    "Pasos:<br/>\n",
    "1- Cargar paquetes y variables de entorno<br/>\n",
    "2- Enviar template desde el bot al usuario para iniciar conversación<br/>\n",
    "3- Se debe hacer por celular: responder desde el usuario al bot<br/>\n",
    "4- Seleccionar un json de prueba con el formato de un pedido<br/>\n",
    "5- Procesar el json para extraer el nro de telefono y pregunta<br/>\n",
    "6- Enviar del bot al usuario por medio de la api: su pregunta fue:... <br/>\n",
    "7- Procesar la pregunta<br/>\n",
    "8- Responder por medio de la api.<br/>"
   ]
  },
  {
   "cell_type": "code",
   "execution_count": 1,
   "metadata": {},
   "outputs": [
    {
     "data": {
      "text/plain": [
       "'sdad'"
      ]
     },
     "execution_count": 1,
     "metadata": {},
     "output_type": "execute_result"
    }
   ],
   "source": [
    "# Importo las librerías\n",
    "import os\n",
    "from dotenv import load_dotenv\n",
    "import json\n",
    "# Importo las funciones a usar\n",
    "import functions\n",
    "\n",
    "# Cargamos las variables de entorno del proyecto\n",
    "load_dotenv()\n",
    "\n",
    "# Guardamos las variables de entorno en una variable\n",
    "environ_var = os.getenv(\"WHATSAPP_HOOK_TOKEN\")\n",
    "environ_var"
   ]
  },
  {
   "cell_type": "markdown",
   "metadata": {},
   "source": [
    "PASO 2: Enviar template para empezar la conversación"
   ]
  },
  {
   "cell_type": "code",
   "execution_count": 2,
   "metadata": {},
   "outputs": [],
   "source": [
    "# Variables para enviar el template:\n",
    "tel_destino = os.getenv(\"TEL_DESTINO\")\n",
    "template_name = \"hello_world\"\n",
    "template_idiom = \"en_US\""
   ]
  },
  {
   "cell_type": "code",
   "execution_count": 3,
   "metadata": {},
   "outputs": [
    {
     "name": "stdout",
     "output_type": "stream",
     "text": [
      "{\"messaging_product\":\"whatsapp\",\"contacts\":[{\"input\":\"543492575809\",\"wa_id\":\"5493492575809\"}],\"messages\":[{\"id\":\"wamid.HBgNNTQ5MzQ5MjU3NTgwORUCABEYEkU5M0NGMjQwRUJDRkUxRjc1NAA=\"}]}\n"
     ]
    }
   ],
   "source": [
    "# Envio template para iniciar conversacion:\n",
    "functions.envio_template(tel_destino, template_name, template_idiom)"
   ]
  },
  {
   "cell_type": "code",
   "execution_count": 4,
   "metadata": {},
   "outputs": [],
   "source": [
    "# El paso siguiente es reponder al correo para que se pueda iniciar conversación"
   ]
  },
  {
   "cell_type": "markdown",
   "metadata": {},
   "source": [
    "PASO 3: Leemos un json con un mensajea"
   ]
  },
  {
   "cell_type": "code",
   "execution_count": 4,
   "metadata": {},
   "outputs": [],
   "source": [
    "# nombre del json a procesar\n",
    "file_json = \"texto\"\n",
    "\n",
    "# Carga del json:\n",
    "ruta_json = \"recibidos/\" + file_json + \".json\"\n",
    "json_pregunta = functions.cargar_json(ruta_json)\n",
    "\n",
    "# Recuperando valores de pregunta\n",
    "pregunta = json_pregunta[0][\"entry\"][0][\"changes\"][0][\"value\"][\"messages\"]\n",
    "\n",
    "# Obtenemos la información que nos interesa del wapp:\n",
    "tel_desde = pregunta[0][\"from\"]\n",
    "id = pregunta[0][\"id\"]\n",
    "timestamp = pregunta[0][\"timestamp\"]\n",
    "texto = pregunta[0][\"text\"][\"body\"]\n",
    "type = pregunta[0][\"type\"]"
   ]
  },
  {
   "cell_type": "code",
   "execution_count": 5,
   "metadata": {},
   "outputs": [
    {
     "name": "stdout",
     "output_type": "stream",
     "text": [
      "reenviar pregunta a: \n",
      "5493492575809\n",
      "\n",
      "con el siguiente texto: \n",
      "usted preguntó: Holanda\n"
     ]
    }
   ],
   "source": [
    "print(\"reenviar pregunta a: \")\n",
    "print(tel_desde)\n",
    "print()\n",
    "print(\"con el siguiente texto: \")\n",
    "print(\"usted preguntó: \" + texto)"
   ]
  },
  {
   "cell_type": "code",
   "execution_count": null,
   "metadata": {},
   "outputs": [],
   "source": []
  },
  {
   "cell_type": "code",
   "execution_count": null,
   "metadata": {},
   "outputs": [],
   "source": []
  },
  {
   "cell_type": "code",
   "execution_count": null,
   "metadata": {},
   "outputs": [],
   "source": []
  },
  {
   "cell_type": "markdown",
   "metadata": {},
   "source": [
    "# PASO 4: Enviar la pregunta simulada por wapp"
   ]
  },
  {
   "cell_type": "code",
   "execution_count": 10,
   "metadata": {},
   "outputs": [
    {
     "name": "stdout",
     "output_type": "stream",
     "text": [
      "{\"messaging_product\":\"whatsapp\",\"contacts\":[{\"input\":\"543492575809\",\"wa_id\":\"5493492575809\"}],\"messages\":[{\"id\":\"wamid.HBgNNTQ5MzQ5MjU3NTgwORUCABEYEjQ2MkQ5MTFDRTkzRUQ4NEZFMgA=\"}]}\n"
     ]
    }
   ],
   "source": [
    "# Envio mensaje replicando pregunta:\n",
    "functions.envio_mensaje(\"543492575809\", \"_la pregunta realizada fue:_ \\n\\n\" + texto)"
   ]
  },
  {
   "cell_type": "code",
   "execution_count": 8,
   "metadata": {},
   "outputs": [
    {
     "data": {
      "text/plain": [
       "'5493492575809'"
      ]
     },
     "execution_count": 8,
     "metadata": {},
     "output_type": "execute_result"
    }
   ],
   "source": [
    "tel_desde"
   ]
  },
  {
   "cell_type": "code",
   "execution_count": 16,
   "metadata": {},
   "outputs": [
    {
     "data": {
      "text/plain": [
       "'543492575809'"
      ]
     },
     "execution_count": 16,
     "metadata": {},
     "output_type": "execute_result"
    }
   ],
   "source": [
    "\"543492575809\""
   ]
  },
  {
   "cell_type": "code",
   "execution_count": null,
   "metadata": {},
   "outputs": [],
   "source": [
    "'5493492575809'\n",
    "\"543492575809\""
   ]
  },
  {
   "cell_type": "markdown",
   "metadata": {},
   "source": [
    "# PASO 5: Procesamiento de la pregunta"
   ]
  },
  {
   "cell_type": "code",
   "execution_count": 13,
   "metadata": {},
   "outputs": [
    {
     "data": {
      "text/plain": [
       "[{'from': '5493492575809',\n",
       "  'id': 'wamid.HBgNNTQ5MzQ5MjU3NTgwORUCABIYIDI4QjYyMTlEMEYxOEQ0NzdDQUJFQkQ1MjBGMDI5OTg1AA==',\n",
       "  'timestamp': '1665333571',\n",
       "  'text': {'body': 'Holanda'},\n",
       "  'type': 'text'}]"
      ]
     },
     "execution_count": 13,
     "metadata": {},
     "output_type": "execute_result"
    }
   ],
   "source": [
    "pregunta"
   ]
  },
  {
   "cell_type": "code",
   "execution_count": 15,
   "metadata": {},
   "outputs": [
    {
     "data": {
      "text/plain": [
       "'5493492575809'"
      ]
     },
     "execution_count": 15,
     "metadata": {},
     "output_type": "execute_result"
    }
   ],
   "source": [
    "pregunta[0][\"from\"]"
   ]
  },
  {
   "cell_type": "code",
   "execution_count": null,
   "metadata": {},
   "outputs": [],
   "source": []
  },
  {
   "cell_type": "code",
   "execution_count": null,
   "metadata": {},
   "outputs": [],
   "source": []
  },
  {
   "cell_type": "markdown",
   "metadata": {},
   "source": [
    "# PASO 6: Procesamiento de la pregunta"
   ]
  },
  {
   "cell_type": "code",
   "execution_count": null,
   "metadata": {},
   "outputs": [],
   "source": []
  },
  {
   "cell_type": "code",
   "execution_count": null,
   "metadata": {},
   "outputs": [],
   "source": []
  },
  {
   "cell_type": "code",
   "execution_count": null,
   "metadata": {},
   "outputs": [],
   "source": []
  },
  {
   "cell_type": "code",
   "execution_count": null,
   "metadata": {},
   "outputs": [],
   "source": []
  },
  {
   "cell_type": "code",
   "execution_count": null,
   "metadata": {},
   "outputs": [],
   "source": []
  },
  {
   "cell_type": "markdown",
   "metadata": {},
   "source": [
    "# Validador de numeros de tel\n",
    "\n",
    "Se contara con un registro de nro de tel permitidos y su apodo para que sea validado"
   ]
  },
  {
   "cell_type": "code",
   "execution_count": 12,
   "metadata": {},
   "outputs": [],
   "source": [
    "# PASOS:\n",
    "# 1- Recibimos algún mensaje\n",
    "# 2- Extraemos el numero de telefono\n",
    "# 3- Comparamos el nro de telefono con la base de datos\n",
    "# 4a- Respondemos que no se encuentra en lista\n",
    "# 4b- Respondemos con la misma pregunta y respuesta"
   ]
  },
  {
   "cell_type": "code",
   "execution_count": 19,
   "metadata": {},
   "outputs": [],
   "source": [
    "# PASO 1: Recibimos un mensaje,\n",
    "# por ahora lo simulamos levantando el json\n",
    "\n",
    "# Incluyendo mi nro\n",
    "tel_permitidos = ['5493492575809','otro_nro','otro_nro_2']\n",
    "\n",
    "# Sin incluir mi nro:\n",
    "#tel_permitidos = ['5493492571239','otro_nro','otro_nro_2']\n"
   ]
  },
  {
   "cell_type": "code",
   "execution_count": 20,
   "metadata": {},
   "outputs": [
    {
     "data": {
      "text/plain": [
       "'5493492575809'"
      ]
     },
     "execution_count": 20,
     "metadata": {},
     "output_type": "execute_result"
    }
   ],
   "source": [
    "# Telefono desde el que llega el mensaje\n",
    "pregunta[0][\"from\"]"
   ]
  },
  {
   "cell_type": "code",
   "execution_count": 23,
   "metadata": {},
   "outputs": [
    {
     "name": "stdout",
     "output_type": "stream",
     "text": [
      "Enviar informacion -- introducir codigo para enviar\n"
     ]
    }
   ],
   "source": [
    "# Validar el nro de tel.\n",
    "\n",
    "if pregunta[0][\"from\"] in tel_permitidos:\n",
    "    print(\"Enviar informacion -- introducir codigo para enviar\")\n",
    "\n",
    "else :\n",
    "    print(\"No enviar informacion\")\n"
   ]
  },
  {
   "cell_type": "code",
   "execution_count": null,
   "metadata": {},
   "outputs": [],
   "source": []
  },
  {
   "cell_type": "code",
   "execution_count": null,
   "metadata": {},
   "outputs": [],
   "source": []
  },
  {
   "cell_type": "code",
   "execution_count": null,
   "metadata": {},
   "outputs": [],
   "source": []
  },
  {
   "cell_type": "code",
   "execution_count": null,
   "metadata": {},
   "outputs": [],
   "source": []
  }
 ],
 "metadata": {
  "kernelspec": {
   "display_name": "Python 3.9.7 ('base')",
   "language": "python",
   "name": "python3"
  },
  "language_info": {
   "codemirror_mode": {
    "name": "ipython",
    "version": 3
   },
   "file_extension": ".py",
   "mimetype": "text/x-python",
   "name": "python",
   "nbconvert_exporter": "python",
   "pygments_lexer": "ipython3",
   "version": "3.9.7"
  },
  "orig_nbformat": 4,
  "vscode": {
   "interpreter": {
    "hash": "562c9c567e50c33fd32533d1041799ab9ec09a9cf2f2e4c1c846bbf665f39d1b"
   }
  }
 },
 "nbformat": 4,
 "nbformat_minor": 2
}
