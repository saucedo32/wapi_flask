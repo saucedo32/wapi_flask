{
 "cells": [
  {
   "cell_type": "markdown",
   "metadata": {},
   "source": [
    "En el siguiente código se va a simular lo que sucede sin webhook.<br/>\n",
    "<br/>\n",
    "Pasos:<br/>\n",
    "1- Cargar paquetes y variables de entorno<br/>\n",
    "2- Enviar template desde el bot al usuario para iniciar conversación<br/>\n",
    "3- Se debe hacer por celular: responder desde el usuario al bot<br/>\n",
    "4- Seleccionar un json de prueba con el formato de un pedido<br/>\n",
    "5- Procesar el json para extraer el nro de telefono y pregunta<br/>\n",
    "6- Enviar del bot al usuario por medio de la api: su pregunta fue:... <br/>\n",
    "7- Procesar la pregunta<br/>\n",
    "8- Responder por medio de la api.<br/>"
   ]
  },
  {
   "cell_type": "code",
   "execution_count": 1,
   "metadata": {},
   "outputs": [
    {
     "data": {
      "text/plain": [
       "'sdad'"
      ]
     },
     "execution_count": 1,
     "metadata": {},
     "output_type": "execute_result"
    }
   ],
   "source": [
    "# Importo las librerías\n",
    "import os\n",
    "from dotenv import load_dotenv\n",
    "import json\n",
    "# Importo las funciones a usar\n",
    "import functions\n",
    "\n",
    "# Cargamos las variables de entorno del proyecto\n",
    "load_dotenv()\n",
    "\n",
    "# Guardamos las variables de entorno en una variable\n",
    "environ_var = os.getenv(\"WHATSAPP_HOOK_TOKEN\")\n",
    "environ_var"
   ]
  },
  {
   "cell_type": "markdown",
   "metadata": {},
   "source": [
    "PASO 2: Enviar template para empezar la conversación"
   ]
  },
  {
   "cell_type": "code",
   "execution_count": 2,
   "metadata": {},
   "outputs": [],
   "source": [
    "# Variables para enviar el template:\n",
    "tel_destino = os.getenv(\"TEL_DESTINO\")\n",
    "template_name = \"hello_world\"\n",
    "template_idiom = \"en_US\""
   ]
  },
  {
   "cell_type": "code",
   "execution_count": 3,
   "metadata": {},
   "outputs": [
    {
     "name": "stdout",
     "output_type": "stream",
     "text": [
      "{\"messaging_product\":\"whatsapp\",\"contacts\":[{\"input\":\"543492575809\",\"wa_id\":\"5493492575809\"}],\"messages\":[{\"id\":\"wamid.HBgNNTQ5MzQ5MjU3NTgwORUCABEYEkQzMjY3QzEwMTNEQkY2ODFBQwA=\"}]}\n"
     ]
    }
   ],
   "source": [
    "# Envio template para iniciar conversacion:\n",
    "functions.envio_template(tel_destino, template_name, template_idiom)"
   ]
  },
  {
   "cell_type": "code",
   "execution_count": 4,
   "metadata": {},
   "outputs": [],
   "source": [
    "# El paso siguiente es reponder al correo para que se pueda iniciar conversación"
   ]
  },
  {
   "cell_type": "markdown",
   "metadata": {},
   "source": [
    "PASO 3: Leemos un json con un mensajea"
   ]
  },
  {
   "cell_type": "code",
   "execution_count": 5,
   "metadata": {},
   "outputs": [],
   "source": [
    "# nombre del json a procesar\n",
    "file_json = \"texto\"\n",
    "\n",
    "# Carga del json:\n",
    "ruta_json = \"recibidos/\" + file_json + \".json\"\n",
    "json_pregunta = functions.cargar_json(ruta_json)\n",
    "\n",
    "# Recuperando valores de pregunta\n",
    "pregunta = json_pregunta[0][\"entry\"][0][\"changes\"][0][\"value\"][\"messages\"]\n",
    "\n",
    "# Obtenemos la información que nos interesa del wapp:\n",
    "tel_desde = pregunta[0][\"from\"]\n",
    "id = pregunta[0][\"id\"]\n",
    "timestamp = pregunta[0][\"timestamp\"]\n",
    "texto = pregunta[0][\"text\"][\"body\"]\n",
    "type = pregunta[0][\"type\"]"
   ]
  },
  {
   "cell_type": "code",
   "execution_count": 6,
   "metadata": {},
   "outputs": [
    {
     "name": "stdout",
     "output_type": "stream",
     "text": [
      "reenviar pregunta a: \n",
      "5493492575809\n",
      "\n",
      "con el siguiente texto: \n",
      "usted preguntó: Holanda\n"
     ]
    }
   ],
   "source": [
    "print(\"reenviar pregunta a: \")\n",
    "print(tel_desde)\n",
    "print()\n",
    "print(\"con el siguiente texto: \")\n",
    "print(\"usted preguntó: \" + texto)"
   ]
  },
  {
   "cell_type": "code",
   "execution_count": null,
   "metadata": {},
   "outputs": [],
   "source": []
  },
  {
   "cell_type": "code",
   "execution_count": null,
   "metadata": {},
   "outputs": [],
   "source": []
  },
  {
   "cell_type": "code",
   "execution_count": null,
   "metadata": {},
   "outputs": [],
   "source": []
  },
  {
   "cell_type": "markdown",
   "metadata": {},
   "source": [
    "# PASO 4: Enviar la pregunta simulada por wapp"
   ]
  },
  {
   "cell_type": "code",
   "execution_count": 14,
   "metadata": {},
   "outputs": [
    {
     "name": "stdout",
     "output_type": "stream",
     "text": [
      "{\"error\":{\"message\":\"(#131030) Recipient phone number not in allowed list\",\"type\":\"OAuthException\",\"code\":131030,\"error_data\":{\"messaging_product\":\"whatsapp\",\"details\":\"Recipient phone number not in allowed list: Add recipient phone number to recipient list and try again.\"},\"error_subcode\":2655007,\"fbtrace_id\":\"AMLqa6i7M9360ggk6schYJS\"}}\n"
     ]
    }
   ],
   "source": [
    "# Envio mensaje replicando pregunta:\n",
    "functions.envio_mensaje(str(tel_desde), texto)"
   ]
  },
  {
   "cell_type": "code",
   "execution_count": 15,
   "metadata": {},
   "outputs": [
    {
     "data": {
      "text/plain": [
       "'5493492575809'"
      ]
     },
     "execution_count": 15,
     "metadata": {},
     "output_type": "execute_result"
    }
   ],
   "source": [
    "tel_desde"
   ]
  },
  {
   "cell_type": "code",
   "execution_count": 16,
   "metadata": {},
   "outputs": [
    {
     "data": {
      "text/plain": [
       "'543492575809'"
      ]
     },
     "execution_count": 16,
     "metadata": {},
     "output_type": "execute_result"
    }
   ],
   "source": [
    "\"543492575809\""
   ]
  },
  {
   "cell_type": "code",
   "execution_count": null,
   "metadata": {},
   "outputs": [],
   "source": [
    "'5493492575809'\n",
    "\"543492575809\""
   ]
  },
  {
   "cell_type": "code",
   "execution_count": 13,
   "metadata": {},
   "outputs": [
    {
     "name": "stdout",
     "output_type": "stream",
     "text": [
      "{\"messaging_product\":\"whatsapp\",\"contacts\":[{\"input\":\"543492575809\",\"wa_id\":\"5493492575809\"}],\"messages\":[{\"id\":\"wamid.HBgNNTQ5MzQ5MjU3NTgwORUCABEYEjYyRkYyMUU4RTk2RTlDNkE3MQA=\"}]}\n"
     ]
    }
   ],
   "source": [
    "# ENVIO DE MENSAJE DESDE CODIGO:\n",
    "\n",
    "# Variables para enviar el template:\n",
    "tel_destino = os.getenv(\"TEL_DESTINO\")\n",
    "mensaje = \"Mensaje de prueba desde vsCode\"\n",
    "\n",
    "functions.envio_mensaje(tel_destino, mensaje)"
   ]
  },
  {
   "cell_type": "code",
   "execution_count": null,
   "metadata": {},
   "outputs": [],
   "source": []
  }
 ],
 "metadata": {
  "kernelspec": {
   "display_name": "Python 3.9.7 ('base')",
   "language": "python",
   "name": "python3"
  },
  "language_info": {
   "codemirror_mode": {
    "name": "ipython",
    "version": 3
   },
   "file_extension": ".py",
   "mimetype": "text/x-python",
   "name": "python",
   "nbconvert_exporter": "python",
   "pygments_lexer": "ipython3",
   "version": "3.9.7"
  },
  "orig_nbformat": 4,
  "vscode": {
   "interpreter": {
    "hash": "562c9c567e50c33fd32533d1041799ab9ec09a9cf2f2e4c1c846bbf665f39d1b"
   }
  }
 },
 "nbformat": 4,
 "nbformat_minor": 2
}
