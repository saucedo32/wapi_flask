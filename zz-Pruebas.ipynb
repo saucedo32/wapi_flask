{
 "cells": [
  {
   "cell_type": "code",
   "execution_count": 1,
   "metadata": {},
   "outputs": [
    {
     "data": {
      "text/plain": [
       "True"
      ]
     },
     "execution_count": 1,
     "metadata": {},
     "output_type": "execute_result"
    }
   ],
   "source": [
    "# importo la librería a usar:\n",
    "import functions\n",
    "\n",
    "# Cargamos las variables de entorno del proyecto\n",
    "from dotenv import load_dotenv\n",
    "load_dotenv()\n"
   ]
  },
  {
   "cell_type": "code",
   "execution_count": 2,
   "metadata": {},
   "outputs": [
    {
     "name": "stdout",
     "output_type": "stream",
     "text": [
      "{\"messaging_product\":\"whatsapp\",\"contacts\":[{\"input\":\"543492575809\",\"wa_id\":\"5493492575809\"}],\"messages\":[{\"id\":\"wamid.HBgNNTQ5MzQ5MjU3NTgwORUCABEYEjM4NTA4M0I3MzExOTYyODA4NwA=\"}]}\n"
     ]
    }
   ],
   "source": [
    "# ENVIO DE TEMPLATE DESDE CODIGO:\n",
    "\n",
    "# Variables para enviar el template:\n",
    "tel_destino = os.getenv(\"TEL_DESTINO\")\n",
    "template_name = \"hello_world\"\n",
    "template_idiom = \"en_US\"\n",
    "\n",
    "# Envio del template\n",
    "functions.envio_template(tel_destino, template_name, template_idiom)"
   ]
  },
  {
   "cell_type": "code",
   "execution_count": 3,
   "metadata": {},
   "outputs": [
    {
     "name": "stdout",
     "output_type": "stream",
     "text": [
      "{\"messaging_product\":\"whatsapp\",\"contacts\":[{\"input\":\"543492575809\",\"wa_id\":\"5493492575809\"}],\"messages\":[{\"id\":\"wamid.HBgNNTQ5MzQ5MjU3NTgwORUCABEYEjE5NjgzMjY2RjEyRkU3OEZBOAA=\"}]}\n"
     ]
    }
   ],
   "source": [
    "# ENVIO DE MENSAJE DESDE CODIGO:\n",
    "\n",
    "# Variables para enviar el template:\n",
    "tel_destino = os.getenv(\"TEL_DESTINO\")\n",
    "mensaje = \"Mensaje de prueba desde vsCode\"\n",
    "\n",
    "functions.envio_mensaje(tel_destino, mensaje)"
   ]
  },
  {
   "cell_type": "code",
   "execution_count": null,
   "metadata": {},
   "outputs": [],
   "source": []
  },
  {
   "cell_type": "code",
   "execution_count": null,
   "metadata": {},
   "outputs": [],
   "source": []
  },
  {
   "cell_type": "code",
   "execution_count": null,
   "metadata": {},
   "outputs": [],
   "source": []
  },
  {
   "cell_type": "code",
   "execution_count": null,
   "metadata": {},
   "outputs": [],
   "source": []
  },
  {
   "cell_type": "code",
   "execution_count": null,
   "metadata": {},
   "outputs": [],
   "source": []
  }
 ],
 "metadata": {
  "kernelspec": {
   "display_name": "Python 3.9.7 ('base')",
   "language": "python",
   "name": "python3"
  },
  "language_info": {
   "codemirror_mode": {
    "name": "ipython",
    "version": 3
   },
   "file_extension": ".py",
   "mimetype": "text/x-python",
   "name": "python",
   "nbconvert_exporter": "python",
   "pygments_lexer": "ipython3",
   "version": "3.9.7"
  },
  "orig_nbformat": 4,
  "vscode": {
   "interpreter": {
    "hash": "562c9c567e50c33fd32533d1041799ab9ec09a9cf2f2e4c1c846bbf665f39d1b"
   }
  }
 },
 "nbformat": 4,
 "nbformat_minor": 2
}
